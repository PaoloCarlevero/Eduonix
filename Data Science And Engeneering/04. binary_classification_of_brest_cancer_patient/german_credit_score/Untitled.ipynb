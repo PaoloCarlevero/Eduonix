{
 "cells": [
  {
   "cell_type": "code",
   "execution_count": 29,
   "id": "b2d18d2b",
   "metadata": {},
   "outputs": [],
   "source": [
    "import pandas as pd\n",
    "import seaborn as sns"
   ]
  },
  {
   "cell_type": "code",
   "execution_count": 30,
   "id": "cb63c224",
   "metadata": {},
   "outputs": [],
   "source": [
    "columns_name = [ \"chk_acct\", \"duration\", \"credit_his\", \"purpose\", \"amount\", \"saving_acct\", \"present_emp\", \"installment_rate\", \"sex\", \"other_debtor\", \"present_resid\", \"property\", \"age\", \"other_install\", \"housing\", \"n_credits\", \"job\", \"n_people\", \"telephone\", \"foreign\", \"response\"]\n",
    "data = pd.read_csv('german.data', sep=' ', names=columns_name)"
   ]
  },
  {
   "cell_type": "code",
   "execution_count": 31,
   "id": "c44e1db1",
   "metadata": {
    "scrolled": true
   },
   "outputs": [
    {
     "data": {
      "text/html": [
       "<div>\n",
       "<style scoped>\n",
       "    .dataframe tbody tr th:only-of-type {\n",
       "        vertical-align: middle;\n",
       "    }\n",
       "\n",
       "    .dataframe tbody tr th {\n",
       "        vertical-align: top;\n",
       "    }\n",
       "\n",
       "    .dataframe thead th {\n",
       "        text-align: right;\n",
       "    }\n",
       "</style>\n",
       "<table border=\"1\" class=\"dataframe\">\n",
       "  <thead>\n",
       "    <tr style=\"text-align: right;\">\n",
       "      <th></th>\n",
       "      <th>duration</th>\n",
       "      <th>amount</th>\n",
       "      <th>installment_rate</th>\n",
       "      <th>present_resid</th>\n",
       "      <th>age</th>\n",
       "      <th>n_credits</th>\n",
       "      <th>n_people</th>\n",
       "      <th>response</th>\n",
       "    </tr>\n",
       "  </thead>\n",
       "  <tbody>\n",
       "    <tr>\n",
       "      <th>count</th>\n",
       "      <td>1000.000000</td>\n",
       "      <td>1000.000000</td>\n",
       "      <td>1000.000000</td>\n",
       "      <td>1000.000000</td>\n",
       "      <td>1000.000000</td>\n",
       "      <td>1000.000000</td>\n",
       "      <td>1000.000000</td>\n",
       "      <td>1000.000000</td>\n",
       "    </tr>\n",
       "    <tr>\n",
       "      <th>mean</th>\n",
       "      <td>20.903000</td>\n",
       "      <td>3271.258000</td>\n",
       "      <td>2.973000</td>\n",
       "      <td>2.845000</td>\n",
       "      <td>35.546000</td>\n",
       "      <td>1.407000</td>\n",
       "      <td>1.155000</td>\n",
       "      <td>1.300000</td>\n",
       "    </tr>\n",
       "    <tr>\n",
       "      <th>std</th>\n",
       "      <td>12.058814</td>\n",
       "      <td>2822.736876</td>\n",
       "      <td>1.118715</td>\n",
       "      <td>1.103718</td>\n",
       "      <td>11.375469</td>\n",
       "      <td>0.577654</td>\n",
       "      <td>0.362086</td>\n",
       "      <td>0.458487</td>\n",
       "    </tr>\n",
       "    <tr>\n",
       "      <th>min</th>\n",
       "      <td>4.000000</td>\n",
       "      <td>250.000000</td>\n",
       "      <td>1.000000</td>\n",
       "      <td>1.000000</td>\n",
       "      <td>19.000000</td>\n",
       "      <td>1.000000</td>\n",
       "      <td>1.000000</td>\n",
       "      <td>1.000000</td>\n",
       "    </tr>\n",
       "    <tr>\n",
       "      <th>25%</th>\n",
       "      <td>12.000000</td>\n",
       "      <td>1365.500000</td>\n",
       "      <td>2.000000</td>\n",
       "      <td>2.000000</td>\n",
       "      <td>27.000000</td>\n",
       "      <td>1.000000</td>\n",
       "      <td>1.000000</td>\n",
       "      <td>1.000000</td>\n",
       "    </tr>\n",
       "    <tr>\n",
       "      <th>50%</th>\n",
       "      <td>18.000000</td>\n",
       "      <td>2319.500000</td>\n",
       "      <td>3.000000</td>\n",
       "      <td>3.000000</td>\n",
       "      <td>33.000000</td>\n",
       "      <td>1.000000</td>\n",
       "      <td>1.000000</td>\n",
       "      <td>1.000000</td>\n",
       "    </tr>\n",
       "    <tr>\n",
       "      <th>75%</th>\n",
       "      <td>24.000000</td>\n",
       "      <td>3972.250000</td>\n",
       "      <td>4.000000</td>\n",
       "      <td>4.000000</td>\n",
       "      <td>42.000000</td>\n",
       "      <td>2.000000</td>\n",
       "      <td>1.000000</td>\n",
       "      <td>2.000000</td>\n",
       "    </tr>\n",
       "    <tr>\n",
       "      <th>max</th>\n",
       "      <td>72.000000</td>\n",
       "      <td>18424.000000</td>\n",
       "      <td>4.000000</td>\n",
       "      <td>4.000000</td>\n",
       "      <td>75.000000</td>\n",
       "      <td>4.000000</td>\n",
       "      <td>2.000000</td>\n",
       "      <td>2.000000</td>\n",
       "    </tr>\n",
       "  </tbody>\n",
       "</table>\n",
       "</div>"
      ],
      "text/plain": [
       "          duration        amount  installment_rate  present_resid  \\\n",
       "count  1000.000000   1000.000000       1000.000000    1000.000000   \n",
       "mean     20.903000   3271.258000          2.973000       2.845000   \n",
       "std      12.058814   2822.736876          1.118715       1.103718   \n",
       "min       4.000000    250.000000          1.000000       1.000000   \n",
       "25%      12.000000   1365.500000          2.000000       2.000000   \n",
       "50%      18.000000   2319.500000          3.000000       3.000000   \n",
       "75%      24.000000   3972.250000          4.000000       4.000000   \n",
       "max      72.000000  18424.000000          4.000000       4.000000   \n",
       "\n",
       "               age    n_credits     n_people     response  \n",
       "count  1000.000000  1000.000000  1000.000000  1000.000000  \n",
       "mean     35.546000     1.407000     1.155000     1.300000  \n",
       "std      11.375469     0.577654     0.362086     0.458487  \n",
       "min      19.000000     1.000000     1.000000     1.000000  \n",
       "25%      27.000000     1.000000     1.000000     1.000000  \n",
       "50%      33.000000     1.000000     1.000000     1.000000  \n",
       "75%      42.000000     2.000000     1.000000     2.000000  \n",
       "max      75.000000     4.000000     2.000000     2.000000  "
      ]
     },
     "execution_count": 31,
     "metadata": {},
     "output_type": "execute_result"
    }
   ],
   "source": [
    "data.describe()"
   ]
  },
  {
   "cell_type": "code",
   "execution_count": 32,
   "id": "cf90f147",
   "metadata": {},
   "outputs": [
    {
     "data": {
      "text/plain": [
       "chk_acct            object\n",
       "duration             int64\n",
       "credit_his          object\n",
       "purpose             object\n",
       "amount               int64\n",
       "saving_acct         object\n",
       "present_emp         object\n",
       "installment_rate     int64\n",
       "sex                 object\n",
       "other_debtor        object\n",
       "present_resid        int64\n",
       "property            object\n",
       "age                  int64\n",
       "other_install       object\n",
       "housing             object\n",
       "n_credits            int64\n",
       "job                 object\n",
       "n_people             int64\n",
       "telephone           object\n",
       "foreign             object\n",
       "response             int64\n",
       "dtype: object"
      ]
     },
     "execution_count": 32,
     "metadata": {},
     "output_type": "execute_result"
    }
   ],
   "source": [
    "data.dtypes"
   ]
  },
  {
   "cell_type": "code",
   "execution_count": 33,
   "id": "befe2056",
   "metadata": {},
   "outputs": [],
   "source": [
    "data['response'] = data['response'] - 1\n",
    "data['response'] = data['response'].apply(str)"
   ]
  },
  {
   "cell_type": "code",
   "execution_count": 34,
   "id": "d09b6d47",
   "metadata": {},
   "outputs": [
    {
     "data": {
      "text/html": [
       "<div>\n",
       "<style scoped>\n",
       "    .dataframe tbody tr th:only-of-type {\n",
       "        vertical-align: middle;\n",
       "    }\n",
       "\n",
       "    .dataframe tbody tr th {\n",
       "        vertical-align: top;\n",
       "    }\n",
       "\n",
       "    .dataframe thead th {\n",
       "        text-align: right;\n",
       "    }\n",
       "</style>\n",
       "<table border=\"1\" class=\"dataframe\">\n",
       "  <thead>\n",
       "    <tr style=\"text-align: right;\">\n",
       "      <th></th>\n",
       "      <th>duration</th>\n",
       "      <th>amount</th>\n",
       "      <th>installment_rate</th>\n",
       "      <th>present_resid</th>\n",
       "      <th>age</th>\n",
       "      <th>n_credits</th>\n",
       "      <th>n_people</th>\n",
       "    </tr>\n",
       "  </thead>\n",
       "  <tbody>\n",
       "    <tr>\n",
       "      <th>count</th>\n",
       "      <td>1000.000000</td>\n",
       "      <td>1000.000000</td>\n",
       "      <td>1000.000000</td>\n",
       "      <td>1000.000000</td>\n",
       "      <td>1000.000000</td>\n",
       "      <td>1000.000000</td>\n",
       "      <td>1000.000000</td>\n",
       "    </tr>\n",
       "    <tr>\n",
       "      <th>mean</th>\n",
       "      <td>20.903000</td>\n",
       "      <td>3271.258000</td>\n",
       "      <td>2.973000</td>\n",
       "      <td>2.845000</td>\n",
       "      <td>35.546000</td>\n",
       "      <td>1.407000</td>\n",
       "      <td>1.155000</td>\n",
       "    </tr>\n",
       "    <tr>\n",
       "      <th>std</th>\n",
       "      <td>12.058814</td>\n",
       "      <td>2822.736876</td>\n",
       "      <td>1.118715</td>\n",
       "      <td>1.103718</td>\n",
       "      <td>11.375469</td>\n",
       "      <td>0.577654</td>\n",
       "      <td>0.362086</td>\n",
       "    </tr>\n",
       "    <tr>\n",
       "      <th>min</th>\n",
       "      <td>4.000000</td>\n",
       "      <td>250.000000</td>\n",
       "      <td>1.000000</td>\n",
       "      <td>1.000000</td>\n",
       "      <td>19.000000</td>\n",
       "      <td>1.000000</td>\n",
       "      <td>1.000000</td>\n",
       "    </tr>\n",
       "    <tr>\n",
       "      <th>25%</th>\n",
       "      <td>12.000000</td>\n",
       "      <td>1365.500000</td>\n",
       "      <td>2.000000</td>\n",
       "      <td>2.000000</td>\n",
       "      <td>27.000000</td>\n",
       "      <td>1.000000</td>\n",
       "      <td>1.000000</td>\n",
       "    </tr>\n",
       "    <tr>\n",
       "      <th>50%</th>\n",
       "      <td>18.000000</td>\n",
       "      <td>2319.500000</td>\n",
       "      <td>3.000000</td>\n",
       "      <td>3.000000</td>\n",
       "      <td>33.000000</td>\n",
       "      <td>1.000000</td>\n",
       "      <td>1.000000</td>\n",
       "    </tr>\n",
       "    <tr>\n",
       "      <th>75%</th>\n",
       "      <td>24.000000</td>\n",
       "      <td>3972.250000</td>\n",
       "      <td>4.000000</td>\n",
       "      <td>4.000000</td>\n",
       "      <td>42.000000</td>\n",
       "      <td>2.000000</td>\n",
       "      <td>1.000000</td>\n",
       "    </tr>\n",
       "    <tr>\n",
       "      <th>max</th>\n",
       "      <td>72.000000</td>\n",
       "      <td>18424.000000</td>\n",
       "      <td>4.000000</td>\n",
       "      <td>4.000000</td>\n",
       "      <td>75.000000</td>\n",
       "      <td>4.000000</td>\n",
       "      <td>2.000000</td>\n",
       "    </tr>\n",
       "  </tbody>\n",
       "</table>\n",
       "</div>"
      ],
      "text/plain": [
       "          duration        amount  installment_rate  present_resid  \\\n",
       "count  1000.000000   1000.000000       1000.000000    1000.000000   \n",
       "mean     20.903000   3271.258000          2.973000       2.845000   \n",
       "std      12.058814   2822.736876          1.118715       1.103718   \n",
       "min       4.000000    250.000000          1.000000       1.000000   \n",
       "25%      12.000000   1365.500000          2.000000       2.000000   \n",
       "50%      18.000000   2319.500000          3.000000       3.000000   \n",
       "75%      24.000000   3972.250000          4.000000       4.000000   \n",
       "max      72.000000  18424.000000          4.000000       4.000000   \n",
       "\n",
       "               age    n_credits     n_people  \n",
       "count  1000.000000  1000.000000  1000.000000  \n",
       "mean     35.546000     1.407000     1.155000  \n",
       "std      11.375469     0.577654     0.362086  \n",
       "min      19.000000     1.000000     1.000000  \n",
       "25%      27.000000     1.000000     1.000000  \n",
       "50%      33.000000     1.000000     1.000000  \n",
       "75%      42.000000     2.000000     1.000000  \n",
       "max      75.000000     4.000000     2.000000  "
      ]
     },
     "execution_count": 34,
     "metadata": {},
     "output_type": "execute_result"
    }
   ],
   "source": [
    "data.describe()"
   ]
  },
  {
   "cell_type": "code",
   "execution_count": 35,
   "id": "6664f67e",
   "metadata": {},
   "outputs": [
    {
     "data": {
      "text/plain": [
       "chk_acct            object\n",
       "duration             int64\n",
       "credit_his          object\n",
       "purpose             object\n",
       "amount               int64\n",
       "saving_acct         object\n",
       "present_emp         object\n",
       "installment_rate     int64\n",
       "sex                 object\n",
       "other_debtor        object\n",
       "present_resid        int64\n",
       "property            object\n",
       "age                  int64\n",
       "other_install       object\n",
       "housing             object\n",
       "n_credits            int64\n",
       "job                 object\n",
       "n_people             int64\n",
       "telephone           object\n",
       "foreign             object\n",
       "response            object\n",
       "dtype: object"
      ]
     },
     "execution_count": 35,
     "metadata": {},
     "output_type": "execute_result"
    }
   ],
   "source": [
    "data.dtypes"
   ]
  },
  {
   "cell_type": "code",
   "execution_count": 36,
   "id": "3cf2a478",
   "metadata": {},
   "outputs": [
    {
     "data": {
      "text/plain": [
       "<AxesSubplot:>"
      ]
     },
     "execution_count": 36,
     "metadata": {},
     "output_type": "execute_result"
    },
    {
     "data": {
      "image/png": "[encoded data removed]",
      "text/plain": [
       "<Figure size 432x288 with 2 Axes>"
      ]
     },
     "metadata": {
      "needs_background": "light"
     },
     "output_type": "display_data"
    }
   ],
   "source": [
    "corr = data.corr()\n",
    "sns.heatmap(corr, annot=True)"
   ]
  },
  {
   "cell_type": "code",
   "execution_count": 37,
   "id": "7f75336a",
   "metadata": {},
   "outputs": [
    {
     "data": {
      "text/plain": [
       "<AxesSubplot:xlabel='response', ylabel='installment_rate'>"
      ]
     },
     "execution_count": 37,
     "metadata": {},
     "output_type": "execute_result"
    },
    {
     "data": {
      "image/png": "[encoded data removed]",
      "text/plain": [
       "<Figure size 432x288 with 1 Axes>"
      ]
     },
     "metadata": {
      "needs_background": "light"
     },
     "output_type": "display_data"
    }
   ],
   "source": [
    "sns.barplot(data=data, x='response', y='installment_rate')"
   ]
  },
  {
   "cell_type": "code",
   "execution_count": 38,
   "id": "b1e972a0",
   "metadata": {},
   "outputs": [
    {
     "data": {
      "text/plain": [
       "<AxesSubplot:xlabel='response', ylabel='age'>"
      ]
     },
     "execution_count": 38,
     "metadata": {},
     "output_type": "execute_result"
    },
    {
     "data": {
      "image/png": "[encoded data removed]",
      "text/plain": [
       "<Figure size 432x288 with 1 Axes>"
      ]
     },
     "metadata": {
      "needs_background": "light"
     },
     "output_type": "display_data"
    }
   ],
   "source": [
    "sns.boxplot(data=data, x='response', y='age')"
   ]
  },
  {
   "cell_type": "code",
   "execution_count": 39,
   "id": "32d87a55",
   "metadata": {},
   "outputs": [
    {
     "data": {
      "text/plain": [
       "<AxesSubplot:xlabel='response', ylabel='duration'>"
      ]
     },
     "execution_count": 39,
     "metadata": {},
     "output_type": "execute_result"
    },
    {
     "data": {
      "image/png": "[encoded data removed]",
      "text/plain": [
       "<Figure size 432x288 with 1 Axes>"
      ]
     },
     "metadata": {
      "needs_background": "light"
     },
     "output_type": "display_data"
    }
   ],
   "source": [
    "sns.boxplot(data=data, x='response', y='duration')"
   ]
  },
  {
   "cell_type": "code",
   "execution_count": 40,
   "id": "7e47954f",
   "metadata": {},
   "outputs": [
    {
     "data": {
      "text/plain": [
       "<AxesSubplot:xlabel='saving_acct', ylabel='count'>"
      ]
     },
     "execution_count": 40,
     "metadata": {},
     "output_type": "execute_result"
    },
    {
     "data": {
      "image/png": "[encoded data removed]",
      "text/plain": [
       "<Figure size 432x288 with 1 Axes>"
      ]
     },
     "metadata": {
      "needs_background": "light"
     },
     "output_type": "display_data"
    }
   ],
   "source": [
    "sns.countplot(data=data, x='saving_acct', hue='response')"
   ]
  },
  {
   "cell_type": "code",
   "execution_count": 41,
   "id": "c93a70bd",
   "metadata": {},
   "outputs": [
    {
     "data": {
      "text/plain": [
       "<AxesSubplot:xlabel='credit_his', ylabel='count'>"
      ]
     },
     "execution_count": 41,
     "metadata": {},
     "output_type": "execute_result"
    },
    {
     "data": {
      "image/png": "[encoded data removed]",
      "text/plain": [
       "<Figure size 432x288 with 1 Axes>"
      ]
     },
     "metadata": {
      "needs_background": "light"
     },
     "output_type": "display_data"
    }
   ],
   "source": [
    "sns.countplot(data=data, x='credit_his', hue='response')"
   ]
  },
  {
   "cell_type": "code",
   "execution_count": 42,
   "id": "de881f9f",
   "metadata": {},
   "outputs": [
    {
     "data": {
      "text/plain": [
       "<AxesSubplot:xlabel='saving_acct', ylabel='count'>"
      ]
     },
     "execution_count": 42,
     "metadata": {},
     "output_type": "execute_result"
    },
    {
     "data": {
      "image/png": "[encoded data removed]",
      "text/plain": [
       "<Figure size 432x288 with 1 Axes>"
      ]
     },
     "metadata": {
      "needs_background": "light"
     },
     "output_type": "display_data"
    }
   ],
   "source": [
    "sns.countplot(data=data, x='saving_acct', hue='response')"
   ]
  },
  {
   "cell_type": "code",
   "execution_count": 43,
   "id": "36a9d59b",
   "metadata": {},
   "outputs": [],
   "source": [
    "X = data[[\"sex\" , \"housing\", \"saving_acct\", \"chk_acct\", \"age\", \"duration\", \"amount\"]]\n",
    "y = data['response']"
   ]
  },
  {
   "cell_type": "code",
   "execution_count": 44,
   "id": "9f9bf29f",
   "metadata": {},
   "outputs": [],
   "source": [
    "data['sex'] = data['sex'].apply(str)\n",
    "data['housing'] = data['housing'].apply(str)\n",
    "data['saving_acct'] = data['saving_acct'].apply(str)\n",
    "data['chk_acct'] = data['chk_acct'].apply(str)"
   ]
  },
  {
   "cell_type": "code",
   "execution_count": 45,
   "id": "baa3532b",
   "metadata": {},
   "outputs": [],
   "source": [
    "data['age'] = data['age'].astype(int)\n",
    "data['duration'] = data['duration'].astype(int)\n",
    "data['amount'] = data['amount'].astype(int)"
   ]
  },
  {
   "cell_type": "code",
   "execution_count": 46,
   "id": "91a365aa",
   "metadata": {},
   "outputs": [
    {
     "data": {
      "text/plain": [
       "sex            object\n",
       "housing        object\n",
       "saving_acct    object\n",
       "chk_acct       object\n",
       "age             int64\n",
       "duration        int64\n",
       "amount          int64\n",
       "dtype: object"
      ]
     },
     "execution_count": 46,
     "metadata": {},
     "output_type": "execute_result"
    }
   ],
   "source": [
    "X.dtypes"
   ]
  },
  {
   "cell_type": "code",
   "execution_count": null,
   "id": "ba9be27c",
   "metadata": {},
   "outputs": [],
   "source": []
  }
 ],
 "metadata": {
  "kernelspec": {
   "display_name": "Python 3 (ipykernel)",
   "language": "python",
   "name": "python3"
  },
  "language_info": {
   "codemirror_mode": {
    "name": "ipython",
    "version": 3
   },
   "file_extension": ".py",
   "mimetype": "text/x-python",
   "name": "python",
   "nbconvert_exporter": "python",
   "pygments_lexer": "ipython3",
   "version": "3.9.7"
  }
 },
 "nbformat": 4,
 "nbformat_minor": 5
}
