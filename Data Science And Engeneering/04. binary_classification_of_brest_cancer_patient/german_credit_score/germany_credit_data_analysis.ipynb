{
 "cells": [
  {
   "cell_type": "code",
   "execution_count": 18,
   "id": "b2d18d2b",
   "metadata": {
    "scrolled": true
   },
   "outputs": [],
   "source": [
    "import numpy as np\n",
    "import pandas as pd\n",
    "import seaborn as sns\n",
    "from matplotlib import pyplot\n",
    "from sklearn.model_selection import train_test_split, GridSearchCV\n",
    "from sklearn.linear_model import LogisticRegression\n",
    "from sklearn.metrics import accuracy_score, confusion_matrix"
   ]
  },
  {
   "cell_type": "markdown",
   "id": "3c9d5ac6",
   "metadata": {},
   "source": [
    "### 2. Rename the 21 columns with those given in the attribute list for the given dataset : \"chk_acct\", \"duration\", \"credit_his\", \"purpose“, \"amount\", \"saving_acct\", \"present_emp\", \"installment_rate\", \"sex\", \"other_debtor\", \"present_resid\", \"property\", \"age\", \"other_install\", \"housing\", \"n_credits\", \"job\", \"n_people\", \"telephone\", \"foreign\", \"response“."
   ]
  },
  {
   "cell_type": "code",
   "execution_count": 19,
   "id": "ca7f3b2d",
   "metadata": {},
   "outputs": [],
   "source": [
    "columns_name = [ \"chk_acct\", \"duration\", \"credit_his\", \"purpose\", \"amount\", \"saving_acct\", \"present_emp\", \"installment_rate\", \"sex\", \"other_debtor\", \"present_resid\", \"property\", \"age\", \"other_install\", \"housing\", \"n_credits\", \"job\", \"n_people\", \"telephone\", \"foreign\", \"response\"]"
   ]
  },
  {
   "cell_type": "markdown",
   "id": "203ad1ac",
   "metadata": {},
   "source": [
    "### 1. Read the csv and drop/ignore the first column which is the serial number in the given file “German.csv”."
   ]
  },
  {
   "cell_type": "code",
   "execution_count": 20,
   "id": "cb63c224",
   "metadata": {},
   "outputs": [],
   "source": [
    "data = pd.read_csv('german.data', sep=' ', names=columns_name)"
   ]
  },
  {
   "cell_type": "markdown",
   "id": "3b7b6915",
   "metadata": {},
   "source": [
    "Check the shape of the dataset ? It should have 1000 rows and 21 columns"
   ]
  },
  {
   "cell_type": "code",
   "execution_count": 21,
   "id": "4b4aa3d3",
   "metadata": {},
   "outputs": [
    {
     "data": {
      "text/plain": [
       "(1000, 21)"
      ]
     },
     "execution_count": 21,
     "metadata": {},
     "output_type": "execute_result"
    }
   ],
   "source": [
    "data.shape"
   ]
  },
  {
   "cell_type": "code",
   "execution_count": 22,
   "id": "c44e1db1",
   "metadata": {
    "scrolled": true
   },
   "outputs": [
    {
     "data": {
      "text/html": [
       "<div>\n",
       "<style scoped>\n",
       "    .dataframe tbody tr th:only-of-type {\n",
       "        vertical-align: middle;\n",
       "    }\n",
       "\n",
       "    .dataframe tbody tr th {\n",
       "        vertical-align: top;\n",
       "    }\n",
       "\n",
       "    .dataframe thead th {\n",
       "        text-align: right;\n",
       "    }\n",
       "</style>\n",
       "<table border=\"1\" class=\"dataframe\">\n",
       "  <thead>\n",
       "    <tr style=\"text-align: right;\">\n",
       "      <th></th>\n",
       "      <th>duration</th>\n",
       "      <th>amount</th>\n",
       "      <th>installment_rate</th>\n",
       "      <th>present_resid</th>\n",
       "      <th>age</th>\n",
       "      <th>n_credits</th>\n",
       "      <th>n_people</th>\n",
       "      <th>response</th>\n",
       "    </tr>\n",
       "  </thead>\n",
       "  <tbody>\n",
       "    <tr>\n",
       "      <th>count</th>\n",
       "      <td>1000.000000</td>\n",
       "      <td>1000.000000</td>\n",
       "      <td>1000.000000</td>\n",
       "      <td>1000.000000</td>\n",
       "      <td>1000.000000</td>\n",
       "      <td>1000.000000</td>\n",
       "      <td>1000.000000</td>\n",
       "      <td>1000.000000</td>\n",
       "    </tr>\n",
       "    <tr>\n",
       "      <th>mean</th>\n",
       "      <td>20.903000</td>\n",
       "      <td>3271.258000</td>\n",
       "      <td>2.973000</td>\n",
       "      <td>2.845000</td>\n",
       "      <td>35.546000</td>\n",
       "      <td>1.407000</td>\n",
       "      <td>1.155000</td>\n",
       "      <td>1.300000</td>\n",
       "    </tr>\n",
       "    <tr>\n",
       "      <th>std</th>\n",
       "      <td>12.058814</td>\n",
       "      <td>2822.736876</td>\n",
       "      <td>1.118715</td>\n",
       "      <td>1.103718</td>\n",
       "      <td>11.375469</td>\n",
       "      <td>0.577654</td>\n",
       "      <td>0.362086</td>\n",
       "      <td>0.458487</td>\n",
       "    </tr>\n",
       "    <tr>\n",
       "      <th>min</th>\n",
       "      <td>4.000000</td>\n",
       "      <td>250.000000</td>\n",
       "      <td>1.000000</td>\n",
       "      <td>1.000000</td>\n",
       "      <td>19.000000</td>\n",
       "      <td>1.000000</td>\n",
       "      <td>1.000000</td>\n",
       "      <td>1.000000</td>\n",
       "    </tr>\n",
       "    <tr>\n",
       "      <th>25%</th>\n",
       "      <td>12.000000</td>\n",
       "      <td>1365.500000</td>\n",
       "      <td>2.000000</td>\n",
       "      <td>2.000000</td>\n",
       "      <td>27.000000</td>\n",
       "      <td>1.000000</td>\n",
       "      <td>1.000000</td>\n",
       "      <td>1.000000</td>\n",
       "    </tr>\n",
       "    <tr>\n",
       "      <th>50%</th>\n",
       "      <td>18.000000</td>\n",
       "      <td>2319.500000</td>\n",
       "      <td>3.000000</td>\n",
       "      <td>3.000000</td>\n",
       "      <td>33.000000</td>\n",
       "      <td>1.000000</td>\n",
       "      <td>1.000000</td>\n",
       "      <td>1.000000</td>\n",
       "    </tr>\n",
       "    <tr>\n",
       "      <th>75%</th>\n",
       "      <td>24.000000</td>\n",
       "      <td>3972.250000</td>\n",
       "      <td>4.000000</td>\n",
       "      <td>4.000000</td>\n",
       "      <td>42.000000</td>\n",
       "      <td>2.000000</td>\n",
       "      <td>1.000000</td>\n",
       "      <td>2.000000</td>\n",
       "    </tr>\n",
       "    <tr>\n",
       "      <th>max</th>\n",
       "      <td>72.000000</td>\n",
       "      <td>18424.000000</td>\n",
       "      <td>4.000000</td>\n",
       "      <td>4.000000</td>\n",
       "      <td>75.000000</td>\n",
       "      <td>4.000000</td>\n",
       "      <td>2.000000</td>\n",
       "      <td>2.000000</td>\n",
       "    </tr>\n",
       "  </tbody>\n",
       "</table>\n",
       "</div>"
      ],
      "text/plain": [
       "          duration        amount  installment_rate  present_resid  \\\n",
       "count  1000.000000   1000.000000       1000.000000    1000.000000   \n",
       "mean     20.903000   3271.258000          2.973000       2.845000   \n",
       "std      12.058814   2822.736876          1.118715       1.103718   \n",
       "min       4.000000    250.000000          1.000000       1.000000   \n",
       "25%      12.000000   1365.500000          2.000000       2.000000   \n",
       "50%      18.000000   2319.500000          3.000000       3.000000   \n",
       "75%      24.000000   3972.250000          4.000000       4.000000   \n",
       "max      72.000000  18424.000000          4.000000       4.000000   \n",
       "\n",
       "               age    n_credits     n_people     response  \n",
       "count  1000.000000  1000.000000  1000.000000  1000.000000  \n",
       "mean     35.546000     1.407000     1.155000     1.300000  \n",
       "std      11.375469     0.577654     0.362086     0.458487  \n",
       "min      19.000000     1.000000     1.000000     1.000000  \n",
       "25%      27.000000     1.000000     1.000000     1.000000  \n",
       "50%      33.000000     1.000000     1.000000     1.000000  \n",
       "75%      42.000000     2.000000     1.000000     2.000000  \n",
       "max      75.000000     4.000000     2.000000     2.000000  "
      ]
     },
     "execution_count": 22,
     "metadata": {},
     "output_type": "execute_result"
    }
   ],
   "source": [
    "data.describe()"
   ]
  },
  {
   "cell_type": "code",
   "execution_count": 23,
   "id": "cf90f147",
   "metadata": {
    "scrolled": true
   },
   "outputs": [
    {
     "data": {
      "text/plain": [
       "chk_acct            object\n",
       "duration             int64\n",
       "credit_his          object\n",
       "purpose             object\n",
       "amount               int64\n",
       "saving_acct         object\n",
       "present_emp         object\n",
       "installment_rate     int64\n",
       "sex                 object\n",
       "other_debtor        object\n",
       "present_resid        int64\n",
       "property            object\n",
       "age                  int64\n",
       "other_install       object\n",
       "housing             object\n",
       "n_credits            int64\n",
       "job                 object\n",
       "n_people             int64\n",
       "telephone           object\n",
       "foreign             object\n",
       "response             int64\n",
       "dtype: object"
      ]
     },
     "execution_count": 23,
     "metadata": {},
     "output_type": "execute_result"
    }
   ],
   "source": [
    "data.dtypes"
   ]
  },
  {
   "cell_type": "markdown",
   "id": "dc87617e",
   "metadata": {},
   "source": [
    "### 3. Take the “Response” variable. Currently the coding is done as 1 for good and 2 for bad. Subtract 1 from it to make it 0 for good and 1 for bad."
   ]
  },
  {
   "cell_type": "code",
   "execution_count": 24,
   "id": "befe2056",
   "metadata": {},
   "outputs": [],
   "source": [
    "data['response'] = data['response'] - 1\n",
    "data['response'] = data['response'].apply(str)"
   ]
  },
  {
   "cell_type": "markdown",
   "id": "f977077c",
   "metadata": {},
   "source": [
    "### 4. Convert the “Response” variable to a object from int variable. Summarize the levels of this class attribute"
   ]
  },
  {
   "cell_type": "code",
   "execution_count": 25,
   "id": "aa92eec6",
   "metadata": {},
   "outputs": [
    {
     "data": {
      "text/plain": [
       "count     1000\n",
       "unique       2\n",
       "top          0\n",
       "freq       700\n",
       "Name: response, dtype: object"
      ]
     },
     "execution_count": 25,
     "metadata": {},
     "output_type": "execute_result"
    }
   ],
   "source": [
    "data['response'].describe()"
   ]
  },
  {
   "cell_type": "markdown",
   "id": "f46c614e",
   "metadata": {},
   "source": [
    "### 5. Summarize the data set and it’s datatypes."
   ]
  },
  {
   "cell_type": "code",
   "execution_count": 26,
   "id": "b4969a37",
   "metadata": {},
   "outputs": [
    {
     "data": {
      "text/html": [
       "<div>\n",
       "<style scoped>\n",
       "    .dataframe tbody tr th:only-of-type {\n",
       "        vertical-align: middle;\n",
       "    }\n",
       "\n",
       "    .dataframe tbody tr th {\n",
       "        vertical-align: top;\n",
       "    }\n",
       "\n",
       "    .dataframe thead th {\n",
       "        text-align: right;\n",
       "    }\n",
       "</style>\n",
       "<table border=\"1\" class=\"dataframe\">\n",
       "  <thead>\n",
       "    <tr style=\"text-align: right;\">\n",
       "      <th></th>\n",
       "      <th>duration</th>\n",
       "      <th>amount</th>\n",
       "      <th>installment_rate</th>\n",
       "      <th>present_resid</th>\n",
       "      <th>age</th>\n",
       "      <th>n_credits</th>\n",
       "      <th>n_people</th>\n",
       "    </tr>\n",
       "  </thead>\n",
       "  <tbody>\n",
       "    <tr>\n",
       "      <th>count</th>\n",
       "      <td>1000.000000</td>\n",
       "      <td>1000.000000</td>\n",
       "      <td>1000.000000</td>\n",
       "      <td>1000.000000</td>\n",
       "      <td>1000.000000</td>\n",
       "      <td>1000.000000</td>\n",
       "      <td>1000.000000</td>\n",
       "    </tr>\n",
       "    <tr>\n",
       "      <th>mean</th>\n",
       "      <td>20.903000</td>\n",
       "      <td>3271.258000</td>\n",
       "      <td>2.973000</td>\n",
       "      <td>2.845000</td>\n",
       "      <td>35.546000</td>\n",
       "      <td>1.407000</td>\n",
       "      <td>1.155000</td>\n",
       "    </tr>\n",
       "    <tr>\n",
       "      <th>std</th>\n",
       "      <td>12.058814</td>\n",
       "      <td>2822.736876</td>\n",
       "      <td>1.118715</td>\n",
       "      <td>1.103718</td>\n",
       "      <td>11.375469</td>\n",
       "      <td>0.577654</td>\n",
       "      <td>0.362086</td>\n",
       "    </tr>\n",
       "    <tr>\n",
       "      <th>min</th>\n",
       "      <td>4.000000</td>\n",
       "      <td>250.000000</td>\n",
       "      <td>1.000000</td>\n",
       "      <td>1.000000</td>\n",
       "      <td>19.000000</td>\n",
       "      <td>1.000000</td>\n",
       "      <td>1.000000</td>\n",
       "    </tr>\n",
       "    <tr>\n",
       "      <th>25%</th>\n",
       "      <td>12.000000</td>\n",
       "      <td>1365.500000</td>\n",
       "      <td>2.000000</td>\n",
       "      <td>2.000000</td>\n",
       "      <td>27.000000</td>\n",
       "      <td>1.000000</td>\n",
       "      <td>1.000000</td>\n",
       "    </tr>\n",
       "    <tr>\n",
       "      <th>50%</th>\n",
       "      <td>18.000000</td>\n",
       "      <td>2319.500000</td>\n",
       "      <td>3.000000</td>\n",
       "      <td>3.000000</td>\n",
       "      <td>33.000000</td>\n",
       "      <td>1.000000</td>\n",
       "      <td>1.000000</td>\n",
       "    </tr>\n",
       "    <tr>\n",
       "      <th>75%</th>\n",
       "      <td>24.000000</td>\n",
       "      <td>3972.250000</td>\n",
       "      <td>4.000000</td>\n",
       "      <td>4.000000</td>\n",
       "      <td>42.000000</td>\n",
       "      <td>2.000000</td>\n",
       "      <td>1.000000</td>\n",
       "    </tr>\n",
       "    <tr>\n",
       "      <th>max</th>\n",
       "      <td>72.000000</td>\n",
       "      <td>18424.000000</td>\n",
       "      <td>4.000000</td>\n",
       "      <td>4.000000</td>\n",
       "      <td>75.000000</td>\n",
       "      <td>4.000000</td>\n",
       "      <td>2.000000</td>\n",
       "    </tr>\n",
       "  </tbody>\n",
       "</table>\n",
       "</div>"
      ],
      "text/plain": [
       "          duration        amount  installment_rate  present_resid  \\\n",
       "count  1000.000000   1000.000000       1000.000000    1000.000000   \n",
       "mean     20.903000   3271.258000          2.973000       2.845000   \n",
       "std      12.058814   2822.736876          1.118715       1.103718   \n",
       "min       4.000000    250.000000          1.000000       1.000000   \n",
       "25%      12.000000   1365.500000          2.000000       2.000000   \n",
       "50%      18.000000   2319.500000          3.000000       3.000000   \n",
       "75%      24.000000   3972.250000          4.000000       4.000000   \n",
       "max      72.000000  18424.000000          4.000000       4.000000   \n",
       "\n",
       "               age    n_credits     n_people  \n",
       "count  1000.000000  1000.000000  1000.000000  \n",
       "mean     35.546000     1.407000     1.155000  \n",
       "std      11.375469     0.577654     0.362086  \n",
       "min      19.000000     1.000000     1.000000  \n",
       "25%      27.000000     1.000000     1.000000  \n",
       "50%      33.000000     1.000000     1.000000  \n",
       "75%      42.000000     2.000000     1.000000  \n",
       "max      75.000000     4.000000     2.000000  "
      ]
     },
     "execution_count": 26,
     "metadata": {},
     "output_type": "execute_result"
    }
   ],
   "source": [
    "data.describe()"
   ]
  },
  {
   "cell_type": "code",
   "execution_count": 27,
   "id": "6664f67e",
   "metadata": {},
   "outputs": [
    {
     "data": {
      "text/plain": [
       "chk_acct            object\n",
       "duration             int64\n",
       "credit_his          object\n",
       "purpose             object\n",
       "amount               int64\n",
       "saving_acct         object\n",
       "present_emp         object\n",
       "installment_rate     int64\n",
       "sex                 object\n",
       "other_debtor        object\n",
       "present_resid        int64\n",
       "property            object\n",
       "age                  int64\n",
       "other_install       object\n",
       "housing             object\n",
       "n_credits            int64\n",
       "job                 object\n",
       "n_people             int64\n",
       "telephone           object\n",
       "foreign             object\n",
       "response            object\n",
       "dtype: object"
      ]
     },
     "execution_count": 27,
     "metadata": {},
     "output_type": "execute_result"
    }
   ],
   "source": [
    "data.dtypes"
   ]
  },
  {
   "cell_type": "markdown",
   "id": "032770a5",
   "metadata": {},
   "source": [
    "### 6. Give a correlation matrix for all the int columns in the given dataset"
   ]
  },
  {
   "cell_type": "code",
   "execution_count": 28,
   "id": "3cf2a478",
   "metadata": {},
   "outputs": [
    {
     "data": {
      "text/plain": [
       "<AxesSubplot:>"
      ]
     },
     "execution_count": 28,
     "metadata": {},
     "output_type": "execute_result"
    },
    {
     "data": {
      "image/png": "[encoded data removed]",
      "text/plain": [
       "<Figure size 432x288 with 2 Axes>"
      ]
     },
     "metadata": {
      "needs_background": "light"
     },
     "output_type": "display_data"
    }
   ],
   "source": [
    "corr = data.corr()\n",
    "sns.heatmap(corr, annot=True)"
   ]
  },
  {
   "cell_type": "markdown",
   "id": "b4dbc990",
   "metadata": {},
   "source": [
    "### 7. Draw a bar plot with : installment rate vs count of observations by response type "
   ]
  },
  {
   "cell_type": "code",
   "execution_count": 29,
   "id": "7f75336a",
   "metadata": {
    "scrolled": true
   },
   "outputs": [
    {
     "data": {
      "text/plain": [
       "<AxesSubplot:xlabel='response', ylabel='installment_rate'>"
      ]
     },
     "execution_count": 29,
     "metadata": {},
     "output_type": "execute_result"
    },
    {
     "data": {
      "image/png": "[encoded data removed]",
      "text/plain": [
       "<Figure size 432x288 with 1 Axes>"
      ]
     },
     "metadata": {
      "needs_background": "light"
     },
     "output_type": "display_data"
    }
   ],
   "source": [
    "sns.barplot(data=data, x='response', y='installment_rate')"
   ]
  },
  {
   "cell_type": "markdown",
   "id": "3d6043cd",
   "metadata": {},
   "source": [
    "### 8. Draw a box plot for the age by response variable"
   ]
  },
  {
   "cell_type": "code",
   "execution_count": 30,
   "id": "b1e972a0",
   "metadata": {
    "scrolled": true
   },
   "outputs": [
    {
     "data": {
      "text/plain": [
       "<AxesSubplot:xlabel='response', ylabel='age'>"
      ]
     },
     "execution_count": 30,
     "metadata": {},
     "output_type": "execute_result"
    },
    {
     "data": {
      "image/png": "[encoded data removed]",
      "text/plain": [
       "<Figure size 432x288 with 1 Axes>"
      ]
     },
     "metadata": {
      "needs_background": "light"
     },
     "output_type": "display_data"
    }
   ],
   "source": [
    "sns.boxplot(data=data, x='response', y='age')"
   ]
  },
  {
   "cell_type": "markdown",
   "id": "4435d14c",
   "metadata": {},
   "source": [
    "### 9. Draw a box plot for the duration by response variable. "
   ]
  },
  {
   "cell_type": "code",
   "execution_count": 31,
   "id": "32d87a55",
   "metadata": {
    "scrolled": false
   },
   "outputs": [
    {
     "data": {
      "text/plain": [
       "<AxesSubplot:xlabel='response', ylabel='duration'>"
      ]
     },
     "execution_count": 31,
     "metadata": {},
     "output_type": "execute_result"
    },
    {
     "data": {
      "image/png": "[encoded data removed]",
      "text/plain": [
       "<Figure size 432x288 with 1 Axes>"
      ]
     },
     "metadata": {
      "needs_background": "light"
     },
     "output_type": "display_data"
    }
   ],
   "source": [
    "sns.boxplot(data=data, x='response', y='duration')"
   ]
  },
  {
   "cell_type": "markdown",
   "id": "d49bbb95",
   "metadata": {},
   "source": [
    "# 10. Comment on the observations for the plots of continuous variables in Q7, Q8 and Q9"
   ]
  },
  {
   "cell_type": "code",
   "execution_count": null,
   "id": "eb97403c",
   "metadata": {},
   "outputs": [],
   "source": []
  },
  {
   "cell_type": "markdown",
   "id": "196db316",
   "metadata": {},
   "source": [
    "### 11. Draw a bar plot with : chk_acct vs count of observations by response type and analyze "
   ]
  },
  {
   "cell_type": "code",
   "execution_count": 32,
   "id": "8ba00815",
   "metadata": {},
   "outputs": [],
   "source": [
    "new_saving_acct = pd.Categorical(data['saving_acct'], ordered=True)\n",
    "new_saving_acct = new_saving_acct.rename_categories(['... < 100 DM', '100 <= ... < 500 DM', '500 <= ... < 1000 DM', '... >= 1000 DM', 'unknown/\\nno savings account'])\n",
    "data['saving_acct'] = new_saving_acct"
   ]
  },
  {
   "cell_type": "code",
   "execution_count": 33,
   "id": "0c23b9ab",
   "metadata": {},
   "outputs": [
    {
     "data": {
      "text/plain": [
       "<AxesSubplot:xlabel='saving_acct', ylabel='count'>"
      ]
     },
     "execution_count": 33,
     "metadata": {},
     "output_type": "execute_result"
    },
    {
     "data": {
      "image/png": "[encoded data removed]",
      "text/plain": [
       "<Figure size 864x576 with 1 Axes>"
      ]
     },
     "metadata": {
      "needs_background": "light"
     },
     "output_type": "display_data"
    }
   ],
   "source": [
    "fig, ax = pyplot.subplots(figsize=(12, 8))\n",
    "sns.countplot(data=data, x='saving_acct', hue='response', ax=ax)"
   ]
  },
  {
   "cell_type": "markdown",
   "id": "6308e096",
   "metadata": {},
   "source": [
    "### 12. Draw a bar plot with: credit_hist vs count of observations by response type and analyze it"
   ]
  },
  {
   "cell_type": "code",
   "execution_count": 58,
   "id": "107458c0",
   "metadata": {},
   "outputs": [],
   "source": [
    "new_credit_his = pd.Categorical(data['credit_his'], ordered=True)\n",
    "new_credit_his = new_credit_his.rename_categories(['No credit taken/\\nAll credit paid back duly', 'All credit at this\\nbank paid back duly','Existing credits paid\\nback duly untill now', 'Delay in paying off\\nin the past', 'Critical amount/\\nOther credit existing\\n(Not at this bank)'])\n",
    "data['credit_his'] = new_credit_his"
   ]
  },
  {
   "cell_type": "code",
   "execution_count": 36,
   "id": "c93a70bd",
   "metadata": {
    "scrolled": false
   },
   "outputs": [
    {
     "data": {
      "text/plain": [
       "<AxesSubplot:xlabel='credit_his', ylabel='count'>"
      ]
     },
     "execution_count": 36,
     "metadata": {},
     "output_type": "execute_result"
    },
    {
     "data": {
      "image/png": "[encoded data removed]",
      "text/plain": [
       "<Figure size 864x576 with 1 Axes>"
      ]
     },
     "metadata": {
      "needs_background": "light"
     },
     "output_type": "display_data"
    }
   ],
   "source": [
    "fig, ax = pyplot.subplots(figsize=(12, 8))\n",
    "sns.countplot(data=data, x='credit_his', hue='response', ax=ax)"
   ]
  },
  {
   "cell_type": "markdown",
   "id": "a256c044",
   "metadata": {},
   "source": [
    "### 13. Draw a bar plot with: saving_acct vs count of observations by response type and analyze it"
   ]
  },
  {
   "cell_type": "code",
   "execution_count": 37,
   "id": "de881f9f",
   "metadata": {
    "scrolled": false
   },
   "outputs": [
    {
     "data": {
      "text/plain": [
       "<AxesSubplot:xlabel='saving_acct', ylabel='count'>"
      ]
     },
     "execution_count": 37,
     "metadata": {},
     "output_type": "execute_result"
    },
    {
     "data": {
      "image/png": "[encoded data removed]",
      "text/plain": [
       "<Figure size 864x576 with 1 Axes>"
      ]
     },
     "metadata": {
      "needs_background": "light"
     },
     "output_type": "display_data"
    }
   ],
   "source": [
    "fig, ax = pyplot.subplots(figsize=(12, 8))\n",
    "sns.countplot(data=data, x='saving_acct', hue='response', ax=ax)"
   ]
  },
  {
   "cell_type": "markdown",
   "id": "cbd9d78a",
   "metadata": {},
   "source": [
    "### 14. Split the entire dataset to x and y from the given dataset . X will have columns : sex , housing, saving_acct, chk_acct, age, duration, amount and Y will have column: response "
   ]
  },
  {
   "cell_type": "code",
   "execution_count": 38,
   "id": "cf96980a",
   "metadata": {},
   "outputs": [],
   "source": [
    "X = data[[\"age\", \"duration\", \"amount\"]]\n",
    "y = data['response']"
   ]
  },
  {
   "cell_type": "markdown",
   "id": "e76b7e08",
   "metadata": {},
   "source": [
    "### 15. From the above created x and y: perform data standardization : One hot encoding of categorical columns(Sex, Housing, Saving accounts , Checking account) and normalization of numerical columns(Age, Duration, Amount)"
   ]
  },
  {
   "cell_type": "code",
   "execution_count": 39,
   "id": "9e46f342",
   "metadata": {},
   "outputs": [],
   "source": [
    "data['sex'] = data['sex'].apply(str)\n",
    "data['housing'] = data['housing'].apply(str)\n",
    "data['saving_acct'] = data['saving_acct'].apply(str)\n",
    "data['chk_acct'] = data['chk_acct'].apply(str)"
   ]
  },
  {
   "cell_type": "code",
   "execution_count": 40,
   "id": "3fc970b8",
   "metadata": {},
   "outputs": [],
   "source": [
    "data['age'] = data['age'].astype(int)\n",
    "data['duration'] = data['duration'].astype(int)\n",
    "data['amount'] = data['amount'].astype(int)"
   ]
  },
  {
   "cell_type": "code",
   "execution_count": 41,
   "id": "843fdd96",
   "metadata": {},
   "outputs": [],
   "source": [
    "X_test, X_train, y_test, y_train = train_test_split(X, y, test_size=0.33, random_state=0)"
   ]
  },
  {
   "cell_type": "code",
   "execution_count": 42,
   "id": "787a1a8c",
   "metadata": {},
   "outputs": [],
   "source": [
    "log = LogisticRegression()"
   ]
  },
  {
   "cell_type": "code",
   "execution_count": 43,
   "id": "327b927f",
   "metadata": {},
   "outputs": [
    {
     "data": {
      "text/plain": [
       "LogisticRegression()"
      ]
     },
     "execution_count": 43,
     "metadata": {},
     "output_type": "execute_result"
    }
   ],
   "source": [
    "log.fit(X_train, y_train)"
   ]
  },
  {
   "cell_type": "code",
   "execution_count": 44,
   "id": "bf75c0f3",
   "metadata": {},
   "outputs": [],
   "source": [
    "y_pred = log.predict(X_test)"
   ]
  },
  {
   "cell_type": "code",
   "execution_count": 45,
   "id": "7ad84ea8",
   "metadata": {
    "scrolled": true
   },
   "outputs": [
    {
     "data": {
      "text/plain": [
       "0.7044776119402985"
      ]
     },
     "execution_count": 45,
     "metadata": {},
     "output_type": "execute_result"
    }
   ],
   "source": [
    "accuracy_score(y_test, y_pred)"
   ]
  },
  {
   "cell_type": "markdown",
   "id": "3bee1517",
   "metadata": {},
   "source": [
    "### 16. Dividing the Data into Train , Validation and Test Sets (80%-10%-10%)"
   ]
  },
  {
   "cell_type": "code",
   "execution_count": 46,
   "id": "5294ee1a",
   "metadata": {},
   "outputs": [],
   "source": [
    "X = data[[\"age\", \"duration\", \"amount\"]].iloc[:,:2].values"
   ]
  },
  {
   "cell_type": "code",
   "execution_count": 47,
   "id": "f59a72da",
   "metadata": {},
   "outputs": [],
   "source": [
    "y = data.iloc[:, 20].values.reshape(-1,1)"
   ]
  },
  {
   "cell_type": "code",
   "execution_count": 48,
   "id": "e84a4886",
   "metadata": {},
   "outputs": [
    {
     "data": {
      "text/plain": [
       "(1000, 2)"
      ]
     },
     "execution_count": 48,
     "metadata": {},
     "output_type": "execute_result"
    }
   ],
   "source": [
    "np.shape(X)"
   ]
  },
  {
   "cell_type": "code",
   "execution_count": 49,
   "id": "d448c595",
   "metadata": {},
   "outputs": [
    {
     "data": {
      "text/plain": [
       "(1000, 1)"
      ]
     },
     "execution_count": 49,
     "metadata": {},
     "output_type": "execute_result"
    }
   ],
   "source": [
    "np.shape(y)"
   ]
  },
  {
   "cell_type": "code",
   "execution_count": 50,
   "id": "9ba32a24",
   "metadata": {},
   "outputs": [],
   "source": [
    "X_test, X_train, y_test, y_train = train_test_split(X, y, test_size=0.33, random_state=0)"
   ]
  },
  {
   "cell_type": "code",
   "execution_count": 51,
   "id": "5bded11d",
   "metadata": {},
   "outputs": [],
   "source": [
    "log_grid = LogisticRegression()"
   ]
  },
  {
   "cell_type": "code",
   "execution_count": 52,
   "id": "d3516ddf",
   "metadata": {},
   "outputs": [],
   "source": [
    "grid = GridSearchCV(log_grid, {'penalty':['l2']}, cv=10)"
   ]
  },
  {
   "cell_type": "code",
   "execution_count": 53,
   "id": "ee0f0a21",
   "metadata": {},
   "outputs": [
    {
     "name": "stderr",
     "output_type": "stream",
     "text": [
      "C:\\Users\\paolo\\anaconda3\\lib\\site-packages\\sklearn\\utils\\validation.py:63: DataConversionWarning: A column-vector y was passed when a 1d array was expected. Please change the shape of y to (n_samples, ), for example using ravel().\n",
      "  return f(*args, **kwargs)\n",
      "C:\\Users\\paolo\\anaconda3\\lib\\site-packages\\sklearn\\utils\\validation.py:63: DataConversionWarning: A column-vector y was passed when a 1d array was expected. Please change the shape of y to (n_samples, ), for example using ravel().\n",
      "  return f(*args, **kwargs)\n",
      "C:\\Users\\paolo\\anaconda3\\lib\\site-packages\\sklearn\\utils\\validation.py:63: DataConversionWarning: A column-vector y was passed when a 1d array was expected. Please change the shape of y to (n_samples, ), for example using ravel().\n",
      "  return f(*args, **kwargs)\n",
      "C:\\Users\\paolo\\anaconda3\\lib\\site-packages\\sklearn\\utils\\validation.py:63: DataConversionWarning: A column-vector y was passed when a 1d array was expected. Please change the shape of y to (n_samples, ), for example using ravel().\n",
      "  return f(*args, **kwargs)\n",
      "C:\\Users\\paolo\\anaconda3\\lib\\site-packages\\sklearn\\utils\\validation.py:63: DataConversionWarning: A column-vector y was passed when a 1d array was expected. Please change the shape of y to (n_samples, ), for example using ravel().\n",
      "  return f(*args, **kwargs)\n",
      "C:\\Users\\paolo\\anaconda3\\lib\\site-packages\\sklearn\\utils\\validation.py:63: DataConversionWarning: A column-vector y was passed when a 1d array was expected. Please change the shape of y to (n_samples, ), for example using ravel().\n",
      "  return f(*args, **kwargs)\n",
      "C:\\Users\\paolo\\anaconda3\\lib\\site-packages\\sklearn\\utils\\validation.py:63: DataConversionWarning: A column-vector y was passed when a 1d array was expected. Please change the shape of y to (n_samples, ), for example using ravel().\n",
      "  return f(*args, **kwargs)\n",
      "C:\\Users\\paolo\\anaconda3\\lib\\site-packages\\sklearn\\utils\\validation.py:63: DataConversionWarning: A column-vector y was passed when a 1d array was expected. Please change the shape of y to (n_samples, ), for example using ravel().\n",
      "  return f(*args, **kwargs)\n",
      "C:\\Users\\paolo\\anaconda3\\lib\\site-packages\\sklearn\\utils\\validation.py:63: DataConversionWarning: A column-vector y was passed when a 1d array was expected. Please change the shape of y to (n_samples, ), for example using ravel().\n",
      "  return f(*args, **kwargs)\n",
      "C:\\Users\\paolo\\anaconda3\\lib\\site-packages\\sklearn\\utils\\validation.py:63: DataConversionWarning: A column-vector y was passed when a 1d array was expected. Please change the shape of y to (n_samples, ), for example using ravel().\n",
      "  return f(*args, **kwargs)\n",
      "C:\\Users\\paolo\\anaconda3\\lib\\site-packages\\sklearn\\utils\\validation.py:63: DataConversionWarning: A column-vector y was passed when a 1d array was expected. Please change the shape of y to (n_samples, ), for example using ravel().\n",
      "  return f(*args, **kwargs)\n"
     ]
    },
    {
     "data": {
      "text/plain": [
       "GridSearchCV(cv=10, estimator=LogisticRegression(),\n",
       "             param_grid={'penalty': ['l2']})"
      ]
     },
     "execution_count": 53,
     "metadata": {},
     "output_type": "execute_result"
    }
   ],
   "source": [
    "grid.fit(X_train, y_train)"
   ]
  },
  {
   "cell_type": "code",
   "execution_count": 54,
   "id": "605ed24c",
   "metadata": {},
   "outputs": [],
   "source": [
    "y_grid_pred = grid.predict(X_test)"
   ]
  },
  {
   "cell_type": "code",
   "execution_count": 55,
   "id": "3dda979f",
   "metadata": {},
   "outputs": [
    {
     "data": {
      "text/plain": [
       "0.7121212121212122"
      ]
     },
     "execution_count": 55,
     "metadata": {},
     "output_type": "execute_result"
    }
   ],
   "source": [
    "grid.best_score_"
   ]
  },
  {
   "cell_type": "code",
   "execution_count": 56,
   "id": "1a88916f",
   "metadata": {},
   "outputs": [
    {
     "data": {
      "text/plain": [
       "array([[445,  21],\n",
       "       [177,  27]], dtype=int64)"
      ]
     },
     "execution_count": 56,
     "metadata": {},
     "output_type": "execute_result"
    }
   ],
   "source": [
    "confusion_matrix(y_test, y_grid_pred)"
   ]
  }
 ],
 "metadata": {
  "kernelspec": {
   "display_name": "Python 3 (ipykernel)",
   "language": "python",
   "name": "python3"
  },
  "language_info": {
   "codemirror_mode": {
    "name": "ipython",
    "version": 3
   },
   "file_extension": ".py",
   "mimetype": "text/x-python",
   "name": "python",
   "nbconvert_exporter": "python",
   "pygments_lexer": "ipython3",
   "version": "3.9.7"
  }
 },
 "nbformat": 4,
 "nbformat_minor": 5
}
